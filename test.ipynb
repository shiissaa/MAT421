{
  "nbformat": 4,
  "nbformat_minor": 0,
  "metadata": {
    "colab": {
      "provenance": [],
      "authorship_tag": "ABX9TyMswa6DUQ/cI5/DA72amFQ9",
      "include_colab_link": true
    },
    "kernelspec": {
      "name": "python3",
      "display_name": "Python 3"
    },
    "language_info": {
      "name": "python"
    }
  },
  "cells": [
    {
      "cell_type": "markdown",
      "metadata": {
        "id": "view-in-github",
        "colab_type": "text"
      },
      "source": [
        "<a href=\"https://colab.research.google.com/github/shiissaa/MAT421/blob/main/test.ipynb\" target=\"_parent\"><img src=\"https://colab.research.google.com/assets/colab-badge.svg\" alt=\"Open In Colab\"/></a>"
      ]
    },
    {
      "cell_type": "markdown",
      "source": [
        "9.1 Base-N and Binary"
      ],
      "metadata": {
        "id": "hGg5OJqFh25d"
      }
    },
    {
      "cell_type": "markdown",
      "source": [
        "Write a function my_bin_2_dec(b) where b is binary number represented by a list of ones and zeros. The last element of b represents the coefficient of 2^0, the second-to-last element of b represents the coefficient of 2^1, and so on. The output variable, d, should be the decimal representation of b. The test cases are provided below."
      ],
      "metadata": {
        "id": "hwr_Wy-bThXy"
      }
    },
    {
      "cell_type": "code",
      "source": [
        "def my_bin_2_dec(b):\n",
        "  d = 0\n",
        "  # Exponent value\n",
        "  n = 0\n",
        "  # Reverse to start at least significant bit\n",
        "  b.reverse()\n",
        "  for i in b:\n",
        "    if (i == 1):\n",
        "      d += 2**n\n",
        "    n+=1\n",
        "  return d\n",
        "\n",
        "# Output: 33554431\n",
        "my_bin_2_dec([1]*25)"
      ],
      "metadata": {
        "id": "r8Yt0ulDUMIX",
        "colab": {
          "base_uri": "https://localhost:8080/"
        },
        "outputId": "c41f43c7-6cb8-4dd3-a611-9fdf2006dd4a"
      },
      "execution_count": 163,
      "outputs": [
        {
          "output_type": "execute_result",
          "data": {
            "text/plain": [
              "33554431"
            ]
          },
          "metadata": {},
          "execution_count": 163
        }
      ]
    },
    {
      "cell_type": "markdown",
      "source": [
        "Write a function my_dec_2_bin(d), where d is a positive integer in decimal, and b is the binary representation of d. The output b must be a list of ones and zeros, and the leading term must be a 1 unless the decimal input value is 0. The test cases are provided below.\n",
        "\n"
      ],
      "metadata": {
        "id": "n36NPvGqUdkq"
      }
    },
    {
      "cell_type": "code",
      "source": [
        "# Used to format output to match the output in the textbook\n",
        "import ast\n",
        "\n",
        "def my_dec_2_bin(d):\n",
        "  b = []\n",
        "  # Check for case when input is 0\n",
        "  if (d == 0):\n",
        "    b.append(\"0\")\n",
        "  else:\n",
        "    while (d > 0):\n",
        "      if (d % 2 == 1):\n",
        "        b.append(\"1\")\n",
        "      else:\n",
        "        b.append(\"0\")\n",
        "      # Divide by 2 in each loop until !d>0, checking for remainder during each loop\n",
        "      d = d//2\n",
        "  # Reverse for proper order\n",
        "  b.reverse()\n",
        "  b = [ast.literal_eval(i) for i in b]\n",
        "  return b\n",
        "\n",
        "# Output: [1, 0, 0, 0, 0, 0, 1, 1, 0, 0, 0, 1]\n",
        "my_dec_2_bin(2097)"
      ],
      "metadata": {
        "id": "9ggKp3RYUlRe",
        "colab": {
          "base_uri": "https://localhost:8080/"
        },
        "outputId": "514571d6-bdd8-4075-dc3c-a75ae453f250"
      },
      "execution_count": 162,
      "outputs": [
        {
          "output_type": "execute_result",
          "data": {
            "text/plain": [
              "[1, 0, 0, 0, 0, 0, 1, 1, 0, 0, 0, 1]"
            ]
          },
          "metadata": {},
          "execution_count": 162
        }
      ]
    },
    {
      "cell_type": "markdown",
      "source": [
        "Use the two functions you wrote in problems 1 and 2 to compute d = my_bin_2_dec(my_dec_2_bin(12654)). Do you get the same number?\n",
        "\n"
      ],
      "metadata": {
        "id": "XIpYfpTDUeGK"
      }
    },
    {
      "cell_type": "code",
      "source": [
        "d = my_bin_2_dec(my_dec_2_bin(12654))\n",
        "print (d)"
      ],
      "metadata": {
        "colab": {
          "base_uri": "https://localhost:8080/"
        },
        "id": "cdfyxm3ZUoT-",
        "outputId": "1d920f15-71d5-4fbd-a21a-e205fba37400"
      },
      "execution_count": 161,
      "outputs": [
        {
          "output_type": "stream",
          "name": "stdout",
          "text": [
            "12654\n"
          ]
        }
      ]
    },
    {
      "cell_type": "markdown",
      "source": [
        "Answer: Yes, the number is the same.\n"
      ],
      "metadata": {
        "id": "ARtzhltqUqJq"
      }
    },
    {
      "cell_type": "markdown",
      "source": [
        "Write a function my_bin_adder(b1,b2), where b1, b2 and the output variable b are binary numbers represented as in problem 1. The output variable should be computed as b = b1 + b2. Do not use your functions from problems 1 and 2 to write this function (i.e., do not convert b1 and b2 to decimal; add them, and then convert the result back to binary). This function should be able to accept inputs b1 and b2 of any length (i.e., very long binary numbers), and b1 and b2 may not necessarily be the same length.\n",
        "\n"
      ],
      "metadata": {
        "id": "5okMJowfkLfH"
      }
    },
    {
      "cell_type": "code",
      "source": [
        "import ast\n",
        "\n",
        "def my_bin_adder(b1, b2):\n",
        "  carry = 0\n",
        "  # Ensure all binary values have the same number of bits\n",
        "  length = max(len(b1), len(b2))\n",
        "  b = [None]*length\n",
        "  # Initial reverse to pad zeros on the correct side\n",
        "  b1.reverse()\n",
        "  b2.reverse()\n",
        "  # Pad with zeros using new length\n",
        "  b1 = (b1 + [0] * length)[:length]\n",
        "  b2 = (b2 + [0] * length)[:length]\n",
        "  # Reverse back after zeros have been added\n",
        "  b1.reverse()\n",
        "  b2.reverse()\n",
        "  # Iterate through the sum's list, starting at the least significant bit\n",
        "  for i in range(length - 1, -1, -1):\n",
        "    loopCarry = carry\n",
        "    loopCarry += b1[i] + b2[i]\n",
        "    # Check for remainder and find sum\n",
        "    if (loopCarry % 2 == 1):\n",
        "      b[i] = \"1\"\n",
        "    else:\n",
        "      b[i] = \"0\"\n",
        "    # Determine if carry needs to be stored\n",
        "    if (loopCarry < 2):\n",
        "      carry = 0\n",
        "    else:\n",
        "      carry = 1\n",
        "  # Determine if there was \"overflow\"\n",
        "  if (carry != 0):\n",
        "    b.reverse()\n",
        "    b.append(\"1\")\n",
        "    b.reverse()\n",
        "\n",
        "  b = [ast.literal_eval(i) for i in b]\n",
        "  return b\n",
        "\n",
        "# Output: [1, 0, 1, 1]\n",
        "my_bin_adder([1, 1, 0], [1, 0, 1])"
      ],
      "metadata": {
        "colab": {
          "base_uri": "https://localhost:8080/"
        },
        "id": "dOPZLXdbkMlB",
        "outputId": "dbd7eb10-092f-49b9-c1ef-0225358c0efd"
      },
      "execution_count": 164,
      "outputs": [
        {
          "output_type": "execute_result",
          "data": {
            "text/plain": [
              "[1, 0, 1, 1]"
            ]
          },
          "metadata": {},
          "execution_count": 164
        }
      ]
    },
    {
      "cell_type": "code",
      "source": [
        "# Binary multiplication\n",
        "# 29    x    9 =   261\n",
        "# 11101 x 1001 = 11101 +\n",
        "#               000000 +\n",
        "#              0000000 +\n",
        "#             11101000 = 100000101\n",
        "\n",
        "261 == 2**8 + 2**2 + 2**0"
      ],
      "metadata": {
        "colab": {
          "base_uri": "https://localhost:8080/"
        },
        "id": "T5_LKKhIS5tp",
        "outputId": "d9a146e1-111a-4a17-fd37-451b242d9dff"
      },
      "execution_count": 159,
      "outputs": [
        {
          "output_type": "execute_result",
          "data": {
            "text/plain": [
              "True"
            ]
          },
          "metadata": {},
          "execution_count": 159
        }
      ]
    },
    {
      "cell_type": "markdown",
      "source": [
        "9.2 Floating Point Numbers"
      ],
      "metadata": {
        "id": "ocaUrxONYqV2"
      }
    },
    {
      "cell_type": "markdown",
      "source": [
        "Converting between base10 and IEEE754\n",
        "\n",
        "```\n",
        "What is 17.0(base10) in IEEE754?\n",
        "17.0 is positive, so sign bit = 0\n",
        "The largest power of two smaller than 17.0 is 16, so the exponent value is 4\n",
        "Thus, the characteristic is 4 + 1023 = 1027(base10), 10000000011(base2)\n",
        "The fraction is 17/16 - 1 = 0.0625 or 0001...\n",
        "17.0(base10) = 0 10000000011 0001000000000000000000000000000000000000000000000000(IEEE754)\n",
        "```\n",
        "\n"
      ],
      "metadata": {
        "id": "SdaFoABWYq-Z"
      }
    }
  ]
}