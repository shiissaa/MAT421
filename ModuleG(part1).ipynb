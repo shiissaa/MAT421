{
  "nbformat": 4,
  "nbformat_minor": 0,
  "metadata": {
    "colab": {
      "provenance": [],
      "authorship_tag": "ABX9TyMfDja+4veD/peFYXLhSgZK",
      "include_colab_link": true
    },
    "kernelspec": {
      "name": "python3",
      "display_name": "Python 3"
    },
    "language_info": {
      "name": "python"
    }
  },
  "cells": [
    {
      "cell_type": "markdown",
      "metadata": {
        "id": "view-in-github",
        "colab_type": "text"
      },
      "source": [
        "<a href=\"https://colab.research.google.com/github/shiissaa/MAT421/blob/main/ModuleG(part1).ipynb\" target=\"_parent\"><img src=\"https://colab.research.google.com/assets/colab-badge.svg\" alt=\"Open In Colab\"/></a>"
      ]
    },
    {
      "cell_type": "markdown",
      "source": [
        "**21.1 Numerical Integration Problem Statement**\n",
        "\n",
        "Given a function $f(x)$, we want to approximate the integral of $f(x)$ over the total inverval, $[a, b]$. To accomplish this, we assume the interval has been discretized into a numerical grid, $x$, consisting of $n+1$ points with spacing, $h = (b-a)/b$. Here, we denote each point in $x$ by $x_i$, where $x_0=a$ and $x_n=b$. We also assume we have a function, $f(x)$, that can be computed for any of the grid points, or that we have been given the function implicitly as $f(x_i)$."
      ],
      "metadata": {
        "id": "2KLHKcphmTHD"
      }
    },
    {
      "cell_type": "markdown",
      "source": [
        "**21.2 Riemann's Integral**\n",
        "\n",
        "Riemann integral approximation is the simplest way of approximating integrals, which is done by summing the area of rectangles that are defined for each subinterval. The Midpoint Rule takes the rectangle height of the rectangle at each subinterval to be the function value at the midpoint between our two points. We can use Python to use the different Riemann Integrals and Midpoint Rule to approximate an integral with 10 evenly spaced grid points over the whole interval."
      ],
      "metadata": {
        "id": "eRVTJaeWmTLM"
      }
    },
    {
      "cell_type": "code",
      "source": [
        "import numpy as np\n",
        "\n",
        "a = 0\n",
        "b = np.pi\n",
        "n = 10\n",
        "h = (b-a) / (n-1)\n",
        "x = np.linspace(a,b,n)\n",
        "fx = np.cos(x)\n",
        "\n",
        "I_riemannL = h * sum(fx[:n-1])\n",
        "err_riemannL = 2 - I_riemannL\n",
        "\n",
        "I_riemannR = h * sum(fx[1::])\n",
        "err_riemannR = 2 - I_riemannR\n",
        "\n",
        "I_midpoint = h * sum(np.cos((x[:n-1] \\\n",
        "             + x[1:])/2))\n",
        "err_mid = 2 - I_midpoint\n",
        "\n",
        "print(I_riemannL)\n",
        "print(err_riemannL)\n",
        "\n",
        "print(I_riemannR)\n",
        "print(err_riemannR)\n",
        "\n",
        "print(I_midpoint)\n",
        "print(err_mid)"
      ],
      "metadata": {
        "colab": {
          "base_uri": "https://localhost:8080/"
        },
        "id": "ffXiz6yTqsXo",
        "outputId": "17ec8055-2680-468e-ae09-385b11b1ea91"
      },
      "execution_count": null,
      "outputs": [
        {
          "output_type": "stream",
          "name": "stdout",
          "text": [
            "0.34906585039886606\n",
            "1.650934149601134\n",
            "-0.3490658503988656\n",
            "2.3490658503988655\n",
            "1.5501637768927252e-16\n",
            "1.9999999999999998\n"
          ]
        }
      ]
    },
    {
      "cell_type": "markdown",
      "source": [
        "**21.3 Trapezoid Rule**\n",
        "\n",
        "The trapezoid rule fits a trapezoid into each subinterval and sums the areas of the trapezoid to approximate the total integral. For each subinterval, the trapezoid rule computes the area of a trapezoid with corners falling on the points in a grid. The following approximates an integral with 9 evenly spaced grid points over the whole interval using the trapezoid rule."
      ],
      "metadata": {
        "id": "1-Hv9ZD7mTPj"
      }
    },
    {
      "cell_type": "code",
      "execution_count": null,
      "metadata": {
        "colab": {
          "base_uri": "https://localhost:8080/"
        },
        "id": "V_jAMaTglVSb",
        "outputId": "8838f9a3-62da-4341-dc5a-387fe0025976"
      },
      "outputs": [
        {
          "output_type": "stream",
          "name": "stdout",
          "text": [
            "1.9742316019455508\n",
            "0.025768398054449193\n"
          ]
        }
      ],
      "source": [
        "import numpy as np\n",
        "\n",
        "a = 0\n",
        "b = np.pi\n",
        "n = 9\n",
        "h = (b-a) / (n-1)\n",
        "x = np.linspace(a, b, n)\n",
        "fx = np.sin(x)\n",
        "\n",
        "I_trap = (h/2)*(fx[0] + \\\n",
        "          2*sum(fx[1:n-1]) + fx[n-1])\n",
        "err_trap = 2 - I_trap\n",
        "\n",
        "print(I_trap)\n",
        "print(err_trap)"
      ]
    }
  ]
}