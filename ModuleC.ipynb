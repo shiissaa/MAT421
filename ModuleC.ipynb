{
  "nbformat": 4,
  "nbformat_minor": 0,
  "metadata": {
    "colab": {
      "provenance": [],
      "authorship_tag": "ABX9TyNj0hSgklvs2MjYYFWSbmqg",
      "include_colab_link": true
    },
    "kernelspec": {
      "name": "python3",
      "display_name": "Python 3"
    },
    "language_info": {
      "name": "python"
    }
  },
  "cells": [
    {
      "cell_type": "markdown",
      "metadata": {
        "id": "view-in-github",
        "colab_type": "text"
      },
      "source": [
        "<a href=\"https://colab.research.google.com/github/shiissaa/MAT421/blob/main/ModuleC.ipynb\" target=\"_parent\"><img src=\"https://colab.research.google.com/assets/colab-badge.svg\" alt=\"Open In Colab\"/></a>"
      ]
    },
    {
      "cell_type": "markdown",
      "source": [
        "**19.1 Root Finding Problem Statement**\n",
        "\n",
        "The root (or zero) of a function, $f(x)$, is an $x_r$ such that $f(x_r)=0$. For some functions, this is obvious, like $f(x)=x^2-4$. However, for the less obvious functions, determining an analytic (exact) solution for the roots of functions can be difficult. In these scenarios, it can be useful to generate numerical approximations of the roots of $f$ and understand the limitations in doing so.\n",
        "\n",
        "In this example, the *fsolve* function from *scipy* is used to compute the root of $f(x)=cos(x)-x$ near $-2$."
      ],
      "metadata": {
        "id": "AYL9s4uIM7NA"
      }
    },
    {
      "cell_type": "code",
      "source": [
        "import numpy as np\n",
        "from scipy import optimize\n",
        "\n",
        "f = lambda x: np.cos(x) - x\n",
        "r = optimize.fsolve(f, -2)\n",
        "print(\"root = \", r)\n",
        "\n",
        "result = f(r)\n",
        "print(\"f(x) = \", result)"
      ],
      "metadata": {
        "colab": {
          "base_uri": "https://localhost:8080/"
        },
        "id": "K6L99A0lQVaf",
        "outputId": "b622f0fc-1e7e-4d51-9828-81de781de327"
      },
      "execution_count": 9,
      "outputs": [
        {
          "output_type": "stream",
          "name": "stdout",
          "text": [
            "root =  [0.73908513]\n",
            "f(x) =  [0.]\n"
          ]
        }
      ]
    },
    {
      "cell_type": "markdown",
      "source": [
        "**19.2 Tolerance**\n",
        "\n",
        "**Error**, in this context, refers to deviation from an expected or computed value. The level of error that is acceptable for an engineering application is referred to as the **tolerance**. If a program has found a solution with an error smaller than the tolerance, then that program has **converged to a solution**. It is important to establish both a metric for error and a tolerance that is suitable for the given application."
      ],
      "metadata": {
        "id": "HYFU98C8M7UK"
      }
    },
    {
      "cell_type": "markdown",
      "source": [
        "**19.3 Bisection Method**\n",
        "\n",
        "Refresh: The Intermediate Value Theorem (IVT) - if $f(x)$ is a continuous function between $a$ and $b$, and $sign(f(a))≠sign(f(b))$, then there must be a $c$, such that $a < c < b$ and $f(c)=0$.\n",
        "\n",
        "The bisection method uses the IVT iteratively to find roots. First, let $f(x)$ be a continuous function, and let $a$ and $b$ be real scalar values such that $a < b$. Then, assume (without loss of generality) that $f(a) > 0$ and $f(b) < 0$. By the IVT, there must be a root on the open interval $(a,b)$. Now let $m=(b+a)/2$ be the midpoint. \n",
        "\n",
        "If $f(m) = 0$, then $m$ is a root.\n",
        "\n",
        "If $f(m) > 0$, then $m$ is an improvement on the left bound $a$, and there is guaranteed to be a root on the open interval $(m,b)$.\n",
        "\n",
        "If $f(m) < 0$, then $m$ is an improvement on the right bound, $b$, and there is guaranteed to be a root on the open interval $(a,m)$."
      ],
      "metadata": {
        "id": "01RiaAZnM7cO"
      }
    },
    {
      "cell_type": "code",
      "source": [
        "def my_bisection(f, a, b, tol):\n",
        "  if np.sign(f(a)) == np.sign(f(b)):\n",
        "    raise Exception(\"The scalars a nd b do not bound a root\")\n",
        "  \n",
        "  m = (b + a)/2\n",
        "\n",
        "  if np.abs(f(m)) < tol:\n",
        "    return m\n",
        "  if np.sign(f(a)) == np.sign(f(m)):\n",
        "    return my_bisection(f, m, b, tol)\n",
        "  elif np.sign(f(b)) == np.sign(f(m)):\n",
        "    return my_bisection(f, a, m, tol)"
      ],
      "metadata": {
        "id": "FFrIUkBRQWsV"
      },
      "execution_count": 17,
      "outputs": []
    },
    {
      "cell_type": "markdown",
      "source": [
        "The above approximates a root $r$ of $f$, bounded by $a$ and $b$ to within $|f([a+b]/2)| < tol$. It can be used to approximate values to a tolerance."
      ],
      "metadata": {
        "id": "x9_oO0B4ksSx"
      }
    },
    {
      "cell_type": "code",
      "source": [
        "f = lambda x: x**2 - 2\n",
        "\n",
        "r1 = my_bisection(f, 0, 2, 0.1)\n",
        "print(\"r1 = \", r1)\n",
        "r01 = my_bisection(f, 0, 2, 0.01)\n",
        "print(\"r01 = \", r01)\n",
        "print(\"f(r1) = \", f(r1))\n",
        "print(\"f(r01) = \", f(r01))"
      ],
      "metadata": {
        "colab": {
          "base_uri": "https://localhost:8080/"
        },
        "id": "2QRAE4BunpOn",
        "outputId": "940f5ce9-a1d2-4a71-c11f-55f13aef206b"
      },
      "execution_count": 18,
      "outputs": [
        {
          "output_type": "stream",
          "name": "stdout",
          "text": [
            "r1 =  1.4375\n",
            "r01 =  1.4140625\n",
            "f(r1) =  0.06640625\n",
            "f(r01) =  -0.00042724609375\n"
          ]
        }
      ]
    },
    {
      "cell_type": "markdown",
      "source": [
        "The following is what happens when scalars do not bound a root."
      ],
      "metadata": {
        "id": "1A_Zu0Jwo2M8"
      }
    },
    {
      "cell_type": "code",
      "source": [
        "my_bisection(f, 2, 4, 0.01)"
      ],
      "metadata": {
        "colab": {
          "base_uri": "https://localhost:8080/",
          "height": 287
        },
        "id": "3dppWf0vo-5V",
        "outputId": "eda888db-8eab-4ef7-c8ff-3b04d3a0a5af"
      },
      "execution_count": 19,
      "outputs": [
        {
          "output_type": "error",
          "ename": "Exception",
          "evalue": "ignored",
          "traceback": [
            "\u001b[0;31m---------------------------------------------------------------------------\u001b[0m",
            "\u001b[0;31mException\u001b[0m                                 Traceback (most recent call last)",
            "\u001b[0;32m<ipython-input-19-4158b7a9ae67>\u001b[0m in \u001b[0;36m<module>\u001b[0;34m\u001b[0m\n\u001b[0;32m----> 1\u001b[0;31m \u001b[0mmy_bisection\u001b[0m\u001b[0;34m(\u001b[0m\u001b[0mf\u001b[0m\u001b[0;34m,\u001b[0m \u001b[0;36m2\u001b[0m\u001b[0;34m,\u001b[0m \u001b[0;36m4\u001b[0m\u001b[0;34m,\u001b[0m \u001b[0;36m0.01\u001b[0m\u001b[0;34m)\u001b[0m\u001b[0;34m\u001b[0m\u001b[0;34m\u001b[0m\u001b[0m\n\u001b[0m",
            "\u001b[0;32m<ipython-input-17-278c835d04b2>\u001b[0m in \u001b[0;36mmy_bisection\u001b[0;34m(f, a, b, tol)\u001b[0m\n\u001b[1;32m      1\u001b[0m \u001b[0;32mdef\u001b[0m \u001b[0mmy_bisection\u001b[0m\u001b[0;34m(\u001b[0m\u001b[0mf\u001b[0m\u001b[0;34m,\u001b[0m \u001b[0ma\u001b[0m\u001b[0;34m,\u001b[0m \u001b[0mb\u001b[0m\u001b[0;34m,\u001b[0m \u001b[0mtol\u001b[0m\u001b[0;34m)\u001b[0m\u001b[0;34m:\u001b[0m\u001b[0;34m\u001b[0m\u001b[0;34m\u001b[0m\u001b[0m\n\u001b[1;32m      2\u001b[0m   \u001b[0;32mif\u001b[0m \u001b[0mnp\u001b[0m\u001b[0;34m.\u001b[0m\u001b[0msign\u001b[0m\u001b[0;34m(\u001b[0m\u001b[0mf\u001b[0m\u001b[0;34m(\u001b[0m\u001b[0ma\u001b[0m\u001b[0;34m)\u001b[0m\u001b[0;34m)\u001b[0m \u001b[0;34m==\u001b[0m \u001b[0mnp\u001b[0m\u001b[0;34m.\u001b[0m\u001b[0msign\u001b[0m\u001b[0;34m(\u001b[0m\u001b[0mf\u001b[0m\u001b[0;34m(\u001b[0m\u001b[0mb\u001b[0m\u001b[0;34m)\u001b[0m\u001b[0;34m)\u001b[0m\u001b[0;34m:\u001b[0m\u001b[0;34m\u001b[0m\u001b[0;34m\u001b[0m\u001b[0m\n\u001b[0;32m----> 3\u001b[0;31m     \u001b[0;32mraise\u001b[0m \u001b[0mException\u001b[0m\u001b[0;34m(\u001b[0m\u001b[0;34m\"The scalars a nd b do not bound a root\"\u001b[0m\u001b[0;34m)\u001b[0m\u001b[0;34m\u001b[0m\u001b[0;34m\u001b[0m\u001b[0m\n\u001b[0m\u001b[1;32m      4\u001b[0m \u001b[0;34m\u001b[0m\u001b[0m\n\u001b[1;32m      5\u001b[0m   \u001b[0mm\u001b[0m \u001b[0;34m=\u001b[0m \u001b[0;34m(\u001b[0m\u001b[0mb\u001b[0m \u001b[0;34m+\u001b[0m \u001b[0ma\u001b[0m\u001b[0;34m)\u001b[0m\u001b[0;34m/\u001b[0m\u001b[0;36m2\u001b[0m\u001b[0;34m\u001b[0m\u001b[0;34m\u001b[0m\u001b[0m\n",
            "\u001b[0;31mException\u001b[0m: The scalars a nd b do not bound a root"
          ]
        }
      ]
    },
    {
      "cell_type": "markdown",
      "source": [
        "**19.4 Newton-Raphson Method**\n",
        "\n",
        "The Newton-Raphson Method is a way of finding roots, using the idea that these functions can be approximated with tangent lines. It starts with the first guess, and then makes an improved guess based on the intitial guess. \n",
        "\n",
        "The following is a fuction where the output is an estimation of the root of f."
      ],
      "metadata": {
        "id": "kDQEDz6IM783"
      }
    },
    {
      "cell_type": "code",
      "source": [
        "def my_newton(f, df, x0, tol):\n",
        "  if abs(f(x0)) < tol:\n",
        "    return x0\n",
        "  else:\n",
        "    return my_newton(f, df, x0 - f(x0)/df(x0), tol)"
      ],
      "metadata": {
        "id": "yUAIhbxtQXD3"
      },
      "execution_count": 20,
      "outputs": []
    },
    {
      "cell_type": "markdown",
      "source": [
        "With this function, something like the square root of 2 can be computed to within a specified tolerance."
      ],
      "metadata": {
        "id": "NqxrYykLr5bP"
      }
    },
    {
      "cell_type": "code",
      "source": [
        "f = lambda x: x**2 - 2\n",
        "f_prime = lambda x: 2*x\n",
        "\n",
        "estimate = my_newton(f, f_prime, 1.5, 1e-6)\n",
        "print(\"estimate = \", estimate)\n",
        "print(\"sqrt(2) = \", np.sqrt(2))"
      ],
      "metadata": {
        "colab": {
          "base_uri": "https://localhost:8080/"
        },
        "id": "4ynJqTDusFhs",
        "outputId": "84004e3e-9d88-43bc-acef-923f22bfda70"
      },
      "execution_count": 22,
      "outputs": [
        {
          "output_type": "stream",
          "name": "stdout",
          "text": [
            "estimate =  1.4142135623746899\n",
            "sqrt(2) =  1.4142135623730951\n"
          ]
        }
      ]
    },
    {
      "cell_type": "markdown",
      "source": [
        "**19.5 Root Finding in Python**\n",
        "\n",
        "Python can be used to make root-finding easier. For example, Python can compute the root of the function $f(x)=3x^3-75x^2-x+100$ using *fsolve*."
      ],
      "metadata": {
        "id": "bXfHUXm1Nw6v"
      }
    },
    {
      "cell_type": "code",
      "execution_count": 15,
      "metadata": {
        "colab": {
          "base_uri": "https://localhost:8080/"
        },
        "id": "P6aWQ6lbMxCi",
        "outputId": "544a64de-7218-4728-e2f4-99e77dca0c48"
      },
      "outputs": [
        {
          "output_type": "execute_result",
          "data": {
            "text/plain": [
              "array([ 1.17587841, 24.95984973])"
            ]
          },
          "metadata": {},
          "execution_count": 15
        }
      ],
      "source": [
        "from scipy.optimize import fsolve\n",
        "\n",
        "f = lambda x: 3*x**3 - 75*x**2 - x + 100\n",
        "fsolve(f, [1, 100])"
      ]
    }
  ]
}