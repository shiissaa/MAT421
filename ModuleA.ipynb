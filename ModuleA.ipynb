{
  "nbformat": 4,
  "nbformat_minor": 0,
  "metadata": {
    "colab": {
      "provenance": [],
      "authorship_tag": "ABX9TyOBc8bkg9eTTkdiyoK8RkKa",
      "include_colab_link": true
    },
    "kernelspec": {
      "name": "python3",
      "display_name": "Python 3"
    },
    "language_info": {
      "name": "python"
    }
  },
  "cells": [
    {
      "cell_type": "markdown",
      "metadata": {
        "id": "view-in-github",
        "colab_type": "text"
      },
      "source": [
        "<a href=\"https://colab.research.google.com/github/shiissaa/MAT421/blob/main/ModuleA.ipynb\" target=\"_parent\"><img src=\"https://colab.research.google.com/assets/colab-badge.svg\" alt=\"Open In Colab\"/></a>"
      ]
    },
    {
      "cell_type": "markdown",
      "source": [
        "9.1 Base-N and Binary"
      ],
      "metadata": {
        "id": "hGg5OJqFh25d"
      }
    },
    {
      "cell_type": "markdown",
      "source": [
        "Write a function my_bin_2_dec(b) where b is binary number represented by a list of ones and zeros. The last element of b represents the coefficient of 2^0, the second-to-last element of b represents the coefficient of 2^1, and so on. The output variable, d, should be the decimal representation of b. The test cases are provided below."
      ],
      "metadata": {
        "id": "hwr_Wy-bThXy"
      }
    },
    {
      "cell_type": "code",
      "source": [
        "def my_bin_2_dec(b):\n",
        "  d = 0\n",
        "  # Exponent value\n",
        "  n = 0\n",
        "  # Reverse to start at least significant bit\n",
        "  b.reverse()\n",
        "  for i in b:\n",
        "    if (i == 1):\n",
        "      d += 2**n\n",
        "    n+=1\n",
        "  return d\n",
        "\n",
        "# Output: 33554431\n",
        "my_bin_2_dec([1]*25)"
      ],
      "metadata": {
        "id": "r8Yt0ulDUMIX",
        "colab": {
          "base_uri": "https://localhost:8080/"
        },
        "outputId": "c41f43c7-6cb8-4dd3-a611-9fdf2006dd4a"
      },
      "execution_count": 163,
      "outputs": [
        {
          "output_type": "execute_result",
          "data": {
            "text/plain": [
              "33554431"
            ]
          },
          "metadata": {},
          "execution_count": 163
        }
      ]
    },
    {
      "cell_type": "markdown",
      "source": [
        "Write a function my_dec_2_bin(d), where d is a positive integer in decimal, and b is the binary representation of d. The output b must be a list of ones and zeros, and the leading term must be a 1 unless the decimal input value is 0. The test cases are provided below.\n",
        "\n"
      ],
      "metadata": {
        "id": "n36NPvGqUdkq"
      }
    },
    {
      "cell_type": "code",
      "source": [
        "# Used to format output to match the output in the textbook\n",
        "import ast\n",
        "\n",
        "def my_dec_2_bin(d):\n",
        "  b = []\n",
        "  # Check for case when input is 0\n",
        "  if (d == 0):\n",
        "    b.append(\"0\")\n",
        "  else:\n",
        "    while (d > 0):\n",
        "      if (d % 2 == 1):\n",
        "        b.append(\"1\")\n",
        "      else:\n",
        "        b.append(\"0\")\n",
        "      # Divide by 2 in each loop until !d>0, checking for remainder during each loop\n",
        "      d = d//2\n",
        "  # Reverse for proper order\n",
        "  b.reverse()\n",
        "  b = [ast.literal_eval(i) for i in b]\n",
        "  return b\n",
        "\n",
        "# Output: [1, 0, 0, 0, 0, 0, 1, 1, 0, 0, 0, 1]\n",
        "my_dec_2_bin(2097)"
      ],
      "metadata": {
        "id": "9ggKp3RYUlRe",
        "colab": {
          "base_uri": "https://localhost:8080/"
        },
        "outputId": "514571d6-bdd8-4075-dc3c-a75ae453f250"
      },
      "execution_count": 162,
      "outputs": [
        {
          "output_type": "execute_result",
          "data": {
            "text/plain": [
              "[1, 0, 0, 0, 0, 0, 1, 1, 0, 0, 0, 1]"
            ]
          },
          "metadata": {},
          "execution_count": 162
        }
      ]
    },
    {
      "cell_type": "markdown",
      "source": [
        "Use the two functions you wrote in problems 1 and 2 to compute d = my_bin_2_dec(my_dec_2_bin(12654)). Do you get the same number?\n",
        "\n"
      ],
      "metadata": {
        "id": "XIpYfpTDUeGK"
      }
    },
    {
      "cell_type": "code",
      "source": [
        "d = my_bin_2_dec(my_dec_2_bin(12654))\n",
        "print (d)"
      ],
      "metadata": {
        "colab": {
          "base_uri": "https://localhost:8080/"
        },
        "id": "cdfyxm3ZUoT-",
        "outputId": "1d920f15-71d5-4fbd-a21a-e205fba37400"
      },
      "execution_count": 161,
      "outputs": [
        {
          "output_type": "stream",
          "name": "stdout",
          "text": [
            "12654\n"
          ]
        }
      ]
    },
    {
      "cell_type": "markdown",
      "source": [
        "Answer: Yes, the number is the same.\n"
      ],
      "metadata": {
        "id": "ARtzhltqUqJq"
      }
    },
    {
      "cell_type": "markdown",
      "source": [
        "Write a function my_bin_adder(b1,b2), where b1, b2 and the output variable b are binary numbers represented as in problem 1. The output variable should be computed as b = b1 + b2. Do not use your functions from problems 1 and 2 to write this function (i.e., do not convert b1 and b2 to decimal; add them, and then convert the result back to binary). This function should be able to accept inputs b1 and b2 of any length (i.e., very long binary numbers), and b1 and b2 may not necessarily be the same length.\n",
        "\n"
      ],
      "metadata": {
        "id": "5okMJowfkLfH"
      }
    },
    {
      "cell_type": "code",
      "source": [
        "import ast\n",
        "\n",
        "def my_bin_adder(b1, b2):\n",
        "  carry = 0\n",
        "  # Ensure all binary values have the same number of bits\n",
        "  length = max(len(b1), len(b2))\n",
        "  b = [None]*length\n",
        "  # Initial reverse to pad zeros on the correct side\n",
        "  b1.reverse()\n",
        "  b2.reverse()\n",
        "  # Pad with zeros using new length\n",
        "  b1 = (b1 + [0] * length)[:length]\n",
        "  b2 = (b2 + [0] * length)[:length]\n",
        "  # Reverse back after zeros have been added\n",
        "  b1.reverse()\n",
        "  b2.reverse()\n",
        "  # Iterate through the sum's list, starting at the least significant bit\n",
        "  for i in range(length - 1, -1, -1):\n",
        "    loopCarry = carry\n",
        "    loopCarry += b1[i] + b2[i]\n",
        "    # Check for remainder and find sum\n",
        "    if (loopCarry % 2 == 1):\n",
        "      b[i] = \"1\"\n",
        "    else:\n",
        "      b[i] = \"0\"\n",
        "    # Determine if carry needs to be stored\n",
        "    if (loopCarry < 2):\n",
        "      carry = 0\n",
        "    else:\n",
        "      carry = 1\n",
        "  # Determine if there was \"overflow\"\n",
        "  if (carry != 0):\n",
        "    b.reverse()\n",
        "    b.append(\"1\")\n",
        "    b.reverse()\n",
        "\n",
        "  b = [ast.literal_eval(i) for i in b]\n",
        "  return b\n",
        "\n",
        "# Output: [1, 0, 1, 1]\n",
        "my_bin_adder([1, 1, 0], [1, 0, 1])"
      ],
      "metadata": {
        "colab": {
          "base_uri": "https://localhost:8080/"
        },
        "id": "dOPZLXdbkMlB",
        "outputId": "dbd7eb10-092f-49b9-c1ef-0225358c0efd"
      },
      "execution_count": 164,
      "outputs": [
        {
          "output_type": "execute_result",
          "data": {
            "text/plain": [
              "[1, 0, 1, 1]"
            ]
          },
          "metadata": {},
          "execution_count": 164
        }
      ]
    },
    {
      "cell_type": "code",
      "source": [
        "# Binary multiplication\n",
        "# 29    x    9 =   261\n",
        "# 11101 x 1001 = 11101 +\n",
        "#               000000 +\n",
        "#              0000000 +\n",
        "#             11101000 = 100000101\n",
        "\n",
        "261 == 2**8 + 2**2 + 2**0"
      ],
      "metadata": {
        "colab": {
          "base_uri": "https://localhost:8080/"
        },
        "id": "T5_LKKhIS5tp",
        "outputId": "d9a146e1-111a-4a17-fd37-451b242d9dff"
      },
      "execution_count": 159,
      "outputs": [
        {
          "output_type": "execute_result",
          "data": {
            "text/plain": [
              "True"
            ]
          },
          "metadata": {},
          "execution_count": 159
        }
      ]
    },
    {
      "cell_type": "markdown",
      "source": [
        "9.2 Floating Point Numbers"
      ],
      "metadata": {
        "id": "ocaUrxONYqV2"
      }
    },
    {
      "cell_type": "markdown",
      "source": [
        "Converting between base10 and IEEE754\n",
        "\n",
        "```\n",
        "What is 17.0(base10) in IEEE754?\n",
        "17.0 is positive, so sign bit = 0\n",
        "The largest power of two smaller than 17.0 is 16, so the exponent value is 4\n",
        "The characteristic is 4 + 1023 = 1027(base10), 10000000011(base2)\n",
        "The fraction is 17/16 - 1 = 0.0625 or 0001...\n",
        "Thus, 17.0(base10) = 0 10000000011 0001000000000000000000000000000000000000000000000000(IEEE754)\n",
        "\n",
        "What is  0 10000000010 1110000000000000000000000000000000000000000000000000(IEEE754) in base10?\n",
        "\n",
        "The leftmost bit is a 0, so the value is positive\n",
        "The exponent value is 2**10 + 2**1 = 1026 - 1023 = 3\n",
        "The fraction is 2**(-1) + 2**(-2) + 2**(3) = 0.875\n",
        "Thus, the base10 representation of the value is 1 * 2**3 * (1 + .875) = 15.0\n",
        "\n",
        "```\n",
        "\n"
      ],
      "metadata": {
        "id": "SdaFoABWYq-Z"
      }
    },
    {
      "cell_type": "markdown",
      "source": [
        "Adding or subtracting a 1 to the binary fraction portion of the IEEE754 number will also give the next largest or smallest number, respectively.\n",
        "The distance between two numbers is called the gap. The gap grows as the number being represented grows.\n",
        "A gap can be computed using a function.\n",
        "If a value is added or subtracted to/from a number, and that value is less than half the gap from one number to the immediate next, then the same number will be returned."
      ],
      "metadata": {
        "id": "nq6W3sYXJyzV"
      }
    },
    {
      "cell_type": "code",
      "source": [
        "import numpy as np\n",
        "\n",
        "print(np.spacing(1e9))\n",
        "1e9 == (1e9 + np.spacing(1e9/3))"
      ],
      "metadata": {
        "colab": {
          "base_uri": "https://localhost:8080/"
        },
        "id": "77mBHxhTMtx2",
        "outputId": "b76f9cb4-cf63-47e5-8086-66e2bae6053c"
      },
      "execution_count": 174,
      "outputs": [
        {
          "output_type": "stream",
          "name": "stdout",
          "text": [
            "1.1920928955078125e-07\n"
          ]
        },
        {
          "output_type": "execute_result",
          "data": {
            "text/plain": [
              "True"
            ]
          },
          "metadata": {},
          "execution_count": 174
        }
      ]
    },
    {
      "cell_type": "markdown",
      "source": [
        "Subnormal numbers occur during special cases, namely when the exponent has a value of 0. If the exponent has a value of 0, then the leading 1 in the fraction becomes a 0. When the exponent has a value of 2047 and the fraction is nonzero, the result is an undefined number. When e = 2047 and both the sign and fraction portions are 0, the result is positive infinity. When e = 2047 and the fraction portion is 0, but the sign portion is 1, the result is negative infinity. The largest and smallest IEEE754 64-bit values can be verified by Python."
      ],
      "metadata": {
        "id": "pgLNZQrBN8dg"
      }
    },
    {
      "cell_type": "code",
      "source": [
        "import sys\n",
        "\n",
        "max = (2**1023)*((1 + sum(0.5**np.arange(1, 53))))\n",
        "max == sys.float_info.max"
      ],
      "metadata": {
        "colab": {
          "base_uri": "https://localhost:8080/"
        },
        "id": "CsCi9T6fQHG-",
        "outputId": "a65671d5-e00e-4968-a732-5e57566893de"
      },
      "execution_count": 180,
      "outputs": [
        {
          "output_type": "execute_result",
          "data": {
            "text/plain": [
              "True"
            ]
          },
          "metadata": {},
          "execution_count": 180
        }
      ]
    },
    {
      "cell_type": "code",
      "source": [
        "min = (2**(-1022))*(1+0)\n",
        "min == sys.float_info.min"
      ],
      "metadata": {
        "colab": {
          "base_uri": "https://localhost:8080/"
        },
        "id": "7pLqwaQgQzLk",
        "outputId": "556abcff-42c2-4204-d764-ae63b21a5e24"
      },
      "execution_count": 181,
      "outputs": [
        {
          "output_type": "execute_result",
          "data": {
            "text/plain": [
              "True"
            ]
          },
          "metadata": {},
          "execution_count": 181
        }
      ]
    },
    {
      "cell_type": "markdown",
      "source": [
        "Overflow occurs when a calculation results in a number larger than what can be represented. The result is assigned to inf. When there is not sufficient precision for storage, operations are equivalent to adding 0.\n",
        "Underflow occurs when a calculation results in a number smaller than the smallest subnormal number. The result is assigned to 0."
      ],
      "metadata": {
        "id": "EX5uvhvNRBXn"
      }
    },
    {
      "cell_type": "code",
      "source": [
        "# Overflow\n",
        "sys.float_info.max == sys.float_info.max + 2"
      ],
      "metadata": {
        "colab": {
          "base_uri": "https://localhost:8080/"
        },
        "id": "oQXBgek3RmX-",
        "outputId": "fa50d7d2-797f-4063-dc14-aec4555155fa"
      },
      "execution_count": 182,
      "outputs": [
        {
          "output_type": "execute_result",
          "data": {
            "text/plain": [
              "True"
            ]
          },
          "metadata": {},
          "execution_count": 182
        }
      ]
    },
    {
      "cell_type": "code",
      "source": [
        "sys.float_info.max + sys.float_info.max"
      ],
      "metadata": {
        "colab": {
          "base_uri": "https://localhost:8080/"
        },
        "id": "7DNiUe75Rm2U",
        "outputId": "40858969-e8e4-4cf2-aafc-239685f79118"
      },
      "execution_count": 183,
      "outputs": [
        {
          "output_type": "execute_result",
          "data": {
            "text/plain": [
              "inf"
            ]
          },
          "metadata": {},
          "execution_count": 183
        }
      ]
    },
    {
      "cell_type": "code",
      "source": [
        "# Underflow\n",
        "0 == 2**(-1075)"
      ],
      "metadata": {
        "colab": {
          "base_uri": "https://localhost:8080/"
        },
        "id": "jOXT7fGhTt_T",
        "outputId": "416ea93c-e57d-4d48-d434-f9820e3d18e8"
      },
      "execution_count": 185,
      "outputs": [
        {
          "output_type": "execute_result",
          "data": {
            "text/plain": [
              "True"
            ]
          },
          "metadata": {},
          "execution_count": 185
        }
      ]
    },
    {
      "cell_type": "code",
      "source": [
        "print(2**(-1075))\n",
        "print(2**(-1074))"
      ],
      "metadata": {
        "colab": {
          "base_uri": "https://localhost:8080/"
        },
        "id": "YVjVXGMlSbQh",
        "outputId": "2ff22844-d671-411f-ef23-34f75024b00d"
      },
      "execution_count": 184,
      "outputs": [
        {
          "output_type": "stream",
          "name": "stdout",
          "text": [
            "0.0\n",
            "5e-324\n"
          ]
        }
      ]
    },
    {
      "cell_type": "markdown",
      "source": [
        " 9.3 Round-off Errors"
      ],
      "metadata": {
        "id": "hNNcDBZHSeGM"
      }
    },
    {
      "cell_type": "markdown",
      "source": [
        "Round-off errors refer to the difference between an approximation used in computation and its true value. One common round-off error is a representation error, occurring when using the approximation (finite number of digits) of an infinite number e.g. pi, 1/3. On separate occassions, it might not be a big deal, but these errors can accumulate. This can be seen using Python."
      ],
      "metadata": {
        "id": "HShkyjPsVEA0"
      }
    },
    {
      "cell_type": "code",
      "source": [
        "print (1.9 - 1.832)\n",
        "1.9 - 1.832 == 0.068"
      ],
      "metadata": {
        "colab": {
          "base_uri": "https://localhost:8080/"
        },
        "id": "Vsrsrqa2Vt1g",
        "outputId": "0191b24e-6043-4ead-a066-d713a9103971"
      },
      "execution_count": 189,
      "outputs": [
        {
          "output_type": "stream",
          "name": "stdout",
          "text": [
            "0.06799999999999984\n"
          ]
        },
        {
          "output_type": "execute_result",
          "data": {
            "text/plain": [
              "False"
            ]
          },
          "metadata": {},
          "execution_count": 189
        }
      ]
    },
    {
      "cell_type": "markdown",
      "source": [
        "Accumulation can be seen in instances where the same operation is performed multiple times."
      ],
      "metadata": {
        "id": "oP99AhlAWpX-"
      }
    },
    {
      "cell_type": "code",
      "source": [
        "# Case where accumulation does not occur due to not enough operations\n",
        "2 + 1/3 - 1/3"
      ],
      "metadata": {
        "colab": {
          "base_uri": "https://localhost:8080/"
        },
        "id": "NYHrJIIvWupT",
        "outputId": "8092e18e-29cf-418a-8392-a96dc35f6d7d"
      },
      "execution_count": 209,
      "outputs": [
        {
          "output_type": "execute_result",
          "data": {
            "text/plain": [
              "2.0"
            ]
          },
          "metadata": {},
          "execution_count": 209
        }
      ]
    },
    {
      "cell_type": "code",
      "source": [
        "# Function to loop operations\n",
        "def loop(iterations):\n",
        "  result = 2\n",
        "  for i in range(iterations):\n",
        "    result += 1/3\n",
        "  for i in range(iterations):\n",
        "    result -= 1/3\n",
        "  return result"
      ],
      "metadata": {
        "id": "Rz68m3JlXfdX"
      },
      "execution_count": 211,
      "outputs": []
    },
    {
      "cell_type": "code",
      "source": [
        "# 1000 loops\n",
        "loop(1000)"
      ],
      "metadata": {
        "colab": {
          "base_uri": "https://localhost:8080/"
        },
        "id": "SVlzYLt6XfsH",
        "outputId": "7c9d043b-52e9-404b-cda6-dd804584b448"
      },
      "execution_count": 217,
      "outputs": [
        {
          "output_type": "execute_result",
          "data": {
            "text/plain": [
              "2.000000000000006"
            ]
          },
          "metadata": {},
          "execution_count": 217
        }
      ]
    },
    {
      "cell_type": "code",
      "source": [
        "# 10000 loops\n",
        "loop(10000)"
      ],
      "metadata": {
        "colab": {
          "base_uri": "https://localhost:8080/"
        },
        "id": "Ir6UXqm-YYEu",
        "outputId": "8152faae-400c-4389-da37-34082fe41a96"
      },
      "execution_count": 216,
      "outputs": [
        {
          "output_type": "execute_result",
          "data": {
            "text/plain": [
              "2.0000000000001164"
            ]
          },
          "metadata": {},
          "execution_count": 216
        }
      ]
    },
    {
      "cell_type": "code",
      "source": [
        "# 100000 loops\n",
        "loop(100000)"
      ],
      "metadata": {
        "colab": {
          "base_uri": "https://localhost:8080/"
        },
        "id": "Pl0VxZpNYYMG",
        "outputId": "94357d76-e109-44bc-d960-2da793adfd89"
      },
      "execution_count": 215,
      "outputs": [
        {
          "output_type": "execute_result",
          "data": {
            "text/plain": [
              "2.000000000001921"
            ]
          },
          "metadata": {},
          "execution_count": 215
        }
      ]
    }
  ]
}